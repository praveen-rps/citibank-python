{
 "cells": [
  {
   "cell_type": "code",
   "execution_count": null,
   "id": "412ddeb0",
   "metadata": {},
   "outputs": [],
   "source": [
    "In Python, a set is an unordered collection of unique elements. It is a built-in data type that represents a mathematical \n",
    "set. Sets are mutable, which means you can add, remove, or modify elements after the set is created.\n",
    "\n",
    "Here are a few key characteristics of sets:\n",
    "\n",
    "1. Unique Elements: A set cannot contain duplicate elements. When you create a set, any duplicate elements are \n",
    "    automatically removed, leaving only unique elements.\n",
    "\n",
    "2. Unordered: The elements in a set are not stored in any particular order. The order of elements may change between \n",
    "    different operations on the set.\n",
    "\n",
    "3. Mutable: You can modify a set by adding or removing elements. However, individual elements within the set are immutable.\n",
    "    For example, you cannot change a specific element of a set directly, but you can add or remove elements.\n",
    "\n",
    "4. Set Operations: Sets support various operations, such as union, intersection, difference, and symmetric difference. \n",
    "    These operations allow you to perform set operations similar to those in mathematics.\n",
    "\n",
    "            \n",
    "In this example, we create a set of fruits, demonstrate adding and removing elements, check for the presence of an element, and perform set operations such as union, intersection, difference, and symmetric difference.\n",
    "\n",
    "Sets are useful when you need to store a collection of unique elements and perform operations based on set theory."
   ]
  },
  {
   "cell_type": "code",
   "execution_count": 2,
   "id": "b44fb6af",
   "metadata": {},
   "outputs": [
    {
     "name": "stdout",
     "output_type": "stream",
     "text": [
      "{'orange', 'apple', 'banana'}\n",
      "{'orange', 'apple', 'banana', 'mango'}\n",
      "{'orange', 'apple', 'mango'}\n",
      "True\n",
      "Union: {1, 2, 3, 4, 5}\n",
      "Intersection: {3}\n",
      "Difference: {1, 2}\n",
      "Symmetric Difference: {1, 2, 4, 5}\n"
     ]
    }
   ],
   "source": [
    "# Creating a set\n",
    "fruits = {'apple', 'banana', 'orange', 'apple'}\n",
    "\n",
    "# Displaying the set\n",
    "print(fruits)  # Output: {'orange', 'banana', 'apple'} (Duplicates removed)\n",
    "\n",
    "# Adding an element to the set\n",
    "fruits.add('mango')\n",
    "print(fruits)  # Output: {'orange', 'banana', 'mango', 'apple'}\n",
    "\n",
    "# Removing an element from the set\n",
    "fruits.remove('banana')\n",
    "print(fruits)  # Output: {'orange', 'mango', 'apple'}\n",
    "\n",
    "# Checking if an element is in the set\n",
    "print('apple' in fruits)  # Output: True\n",
    "\n",
    "# Performing set operations\n",
    "set1 = {1, 2, 3}\n",
    "set2 = {3, 4, 5}\n",
    "\n",
    "union = set1.union(set2)\n",
    "intersection = set1.intersection(set2)\n",
    "difference = set1.difference(set2)\n",
    "symmetric_difference = set1.symmetric_difference(set2)\n",
    "\n",
    "print(\"Union:\", union)  # Output: {1, 2, 3, 4, 5}\n",
    "print(\"Intersection:\", intersection)  # Output: {3}\n",
    "print(\"Difference:\", difference)  # Output: {1, 2}\n",
    "print(\"Symmetric Difference:\", symmetric_difference)  # Output: {1, 2, 4, 5}"
   ]
  },
  {
   "cell_type": "code",
   "execution_count": null,
   "id": "21f8c5af",
   "metadata": {},
   "outputs": [],
   "source": []
  }
 ],
 "metadata": {
  "kernelspec": {
   "display_name": "Python 3 (ipykernel)",
   "language": "python",
   "name": "python3"
  },
  "language_info": {
   "codemirror_mode": {
    "name": "ipython",
    "version": 3
   },
   "file_extension": ".py",
   "mimetype": "text/x-python",
   "name": "python",
   "nbconvert_exporter": "python",
   "pygments_lexer": "ipython3",
   "version": "3.10.9"
  }
 },
 "nbformat": 4,
 "nbformat_minor": 5
}
