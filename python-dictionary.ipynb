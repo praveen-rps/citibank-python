{
 "cells": [
  {
   "cell_type": "code",
   "execution_count": null,
   "id": "edcd44c2",
   "metadata": {},
   "outputs": [],
   "source": [
    "In Python, a set is an unordered collection of unique elements. It is a built-in data type that represents a mathematical set. Sets are mutable, which means you can add, remove, or modify elements after the set is created.\n",
    "\n",
    "Here are a few key characteristics of sets:\n",
    "\n",
    "    Unique Elements: A set cannot contain duplicate elements. When you create a set, any duplicate elements are automatically removed, leaving only unique elements.\n",
    "\n",
    "    Unordered: The elements in a set are not stored in any particular order. The order of elements may change between different operations on the set.\n",
    "\n",
    "    Mutable: You can modify a set by adding or removing elements. However, individual elements within the set are immutable. For example, you cannot change a specific element of a set directly, but you can add or remove elements.\n",
    "\n",
    "    Set Operations: Sets support various operations, such as union, intersection, difference, and symmetric difference. These operations allow you to perform set operations similar to those in mathematics."
   ]
  },
  {
   "cell_type": "code",
   "execution_count": 1,
   "id": "af4be873",
   "metadata": {},
   "outputs": [
    {
     "name": "stdout",
     "output_type": "stream",
     "text": [
      "{'name': 'Alice', 'age': 25, 'city': 'New York'}\n"
     ]
    }
   ],
   "source": [
    "# Creating a dictionary using curly braces\n",
    "person = {'name': 'Alice', 'age': 25, 'city': 'New York'}\n",
    "\n",
    "# Displaying the dictionary\n",
    "print(person)  # Output: {'name': 'Alice', 'age': 25, 'city': 'New York'}"
   ]
  },
  {
   "cell_type": "code",
   "execution_count": 2,
   "id": "b6566675",
   "metadata": {},
   "outputs": [
    {
     "name": "stdout",
     "output_type": "stream",
     "text": [
      "{'name': 'Alice', 'age': 25, 'city': 'New York'}\n"
     ]
    }
   ],
   "source": [
    "# Creating a dictionary using the dict() constructor\n",
    "person = dict(name='Alice', age=25, city='New York')\n",
    "\n",
    "# Displaying the dictionary\n",
    "print(person)  # Output: {'name': 'Alice', 'age': 25, 'city': 'New York'}"
   ]
  },
  {
   "cell_type": "code",
   "execution_count": 3,
   "id": "e1400334",
   "metadata": {},
   "outputs": [
    {
     "name": "stdout",
     "output_type": "stream",
     "text": [
      "{'name': 'Alice', 'age': 25, 'city': 'New York'}\n"
     ]
    }
   ],
   "source": [
    "# Creating an empty dictionary\n",
    "person = {}\n",
    "\n",
    "# Adding key-value pairs dynamically\n",
    "person['name'] = 'Alice'\n",
    "person['age'] = 25\n",
    "person['city'] = 'New York'\n",
    "\n",
    "# Displaying the dictionary\n",
    "print(person)  # Output: {'name': 'Alice', 'age': 25, 'city': 'New York'}"
   ]
  },
  {
   "cell_type": "code",
   "execution_count": 4,
   "id": "8bdefb2e",
   "metadata": {},
   "outputs": [
    {
     "name": "stdout",
     "output_type": "stream",
     "text": [
      "{'name': 'Alice', 'age': 25, 'city': 'New York'}\n"
     ]
    }
   ],
   "source": [
    "# Creating a dictionary using a list of tuples\n",
    "data = [('name', 'Alice'), ('age', 25), ('city', 'New York')]\n",
    "person = dict(data)\n",
    "\n",
    "# Displaying the dictionary\n",
    "print(person)  # Output: {'name': 'Alice', 'age': 25, 'city': 'New York'}"
   ]
  },
  {
   "cell_type": "code",
   "execution_count": null,
   "id": "dcf35947",
   "metadata": {},
   "outputs": [],
   "source": [
    "Accessing values of the dictionary"
   ]
  },
  {
   "cell_type": "code",
   "execution_count": 6,
   "id": "13fb88fa",
   "metadata": {},
   "outputs": [
    {
     "name": "stdout",
     "output_type": "stream",
     "text": [
      "Alice\n",
      "25\n",
      "New York\n"
     ]
    }
   ],
   "source": [
    "person = {'name': 'Alice', 'age': 25, 'city': 'New York'}\n",
    "\n",
    "# Accessing values using square brackets\n",
    "name = person['name']\n",
    "age = person['age']\n",
    "city = person['city']\n",
    "\n",
    "# Displaying the values\n",
    "print(name)  # Output: Alice\n",
    "print(age)   # Output: 25\n",
    "print(city)  # Output: New York"
   ]
  },
  {
   "cell_type": "code",
   "execution_count": 7,
   "id": "92b2916d",
   "metadata": {},
   "outputs": [
    {
     "name": "stdout",
     "output_type": "stream",
     "text": [
      "Alice\n",
      "25\n",
      "New York\n"
     ]
    }
   ],
   "source": [
    "person = {'name': 'Alice', 'age': 25, 'city': 'New York'}\n",
    "\n",
    "# Accessing values using the get() method\n",
    "name = person.get('name')\n",
    "age = person.get('age')\n",
    "city = person.get('city')\n",
    "\n",
    "# Displaying the values\n",
    "print(name)  # Output: Alice\n",
    "print(age)   # Output: 25\n",
    "print(city)  # Output: New York"
   ]
  },
  {
   "cell_type": "code",
   "execution_count": 8,
   "id": "1beb9048",
   "metadata": {},
   "outputs": [
    {
     "name": "stdout",
     "output_type": "stream",
     "text": [
      "dict_values(['Alice', 25, 'New York'])\n"
     ]
    }
   ],
   "source": [
    "person = {'name': 'Alice', 'age': 25, 'city': 'New York'}\n",
    "\n",
    "# Accessing values using the values() method\n",
    "values = person.values()\n",
    "\n",
    "# Displaying the values\n",
    "print(values)  # Output: dict_values(['Alice', 25, 'New York'])"
   ]
  },
  {
   "cell_type": "code",
   "execution_count": null,
   "id": "821069b0",
   "metadata": {},
   "outputs": [],
   "source": []
  }
 ],
 "metadata": {
  "kernelspec": {
   "display_name": "Python 3 (ipykernel)",
   "language": "python",
   "name": "python3"
  },
  "language_info": {
   "codemirror_mode": {
    "name": "ipython",
    "version": 3
   },
   "file_extension": ".py",
   "mimetype": "text/x-python",
   "name": "python",
   "nbconvert_exporter": "python",
   "pygments_lexer": "ipython3",
   "version": "3.10.9"
  }
 },
 "nbformat": 4,
 "nbformat_minor": 5
}
